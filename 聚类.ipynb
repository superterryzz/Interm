{
 "cells": [
  {
   "cell_type": "code",
   "execution_count": 1,
   "metadata": {},
   "outputs": [],
   "source": [
    "import pandas as pd\n",
    "from sklearn import cluster\n",
    "import matplotlib.pyplot as plt\n",
    "from sklearn.manifold import TSNE\n",
    "import warnings\n",
    "warnings.filterwarnings(\"ignore\")\n",
    "import seaborn as sns\n",
    "from sklearn.decomposition import PCA\n",
    "plt.rcParams['font.sans-serif']=['SimHei'] #图中文字体设置为黑体\n",
    "plt.rcParams['axes.unicode_minus']=False\n",
    "from tqdm.notebook import tqdm\n",
    "from sklearn.metrics import silhouette_score\n",
    "import scipy\n",
    "import numpy as np"
   ]
  },
  {
   "cell_type": "code",
   "execution_count": 2,
   "metadata": {},
   "outputs": [],
   "source": [
    "def read_data(file_name):\n",
    "    df = pd.read_csv(file_name)\n",
    "    df = df.drop(labels=['BASIC_entity_name', 'BASIC_year'], axis=1)\n",
    "    fields_df = pd.read_excel('IDOU_05_事件触发_03_大小类事件映射表_v2.0.xlsx')\n",
    "    rename_dict = {}\n",
    "    for i, row in fields_df.iterrows():\n",
    "        rename_dict[row['大类事件代码'] + '_' + row['小类事件代码']] = row['名称']\n",
    "    df = df.rename(columns=rename_dict)\n",
    "    if 'REVENUEAB_test' in df.columns:\n",
    "        df = df.drop(labels='REVENUEAB_test', axis=1)\n",
    "    df = df.transpose()\n",
    "    df.columns = df.columns.astype(str)\n",
    "    return df\n",
    "\n",
    "def gen_cluster_dict(df, cluster_object):\n",
    "    k = max(cluster_object.labels_) + 1\n",
    "    temp_df = df.copy(deep=True)\n",
    "    temp_df['cluster'] = cluster_object.labels_\n",
    "    cluster_dict = {}\n",
    "    for i in range(k):\n",
    "        cluster_dict[i] = temp_df[temp_df['cluster'] == i].index.tolist()\n",
    "    return cluster_dict\n",
    "\n",
    "def tsne_plot(df, cluster_object):\n",
    "    tsne = TSNE()\n",
    "    tsne.fit_transform(df)  # 进行数据降维\n",
    "    tsne_df = pd.DataFrame(tsne.embedding_, index=df.index)  # 转换数据格式\n",
    "    tsne_df['cluster'] = cluster_object.labels_\n",
    "    plt.figure(figsize=(16, 10))\n",
    "    ax = sns.scatterplot(x=0, y=1, hue=\"cluster\", data=tsne_df)\n",
    "    for i in range(len(tsne_df)):\n",
    "        ax.text(tsne_df.iloc[i,0], tsne_df.iloc[i,1], tsne_df.index[i], fontsize=8)\n",
    "\n",
    "def pca_plot(df, cluster_object):\n",
    "    pca = PCA(n_components=2)\n",
    "    pca_df = pca.fit_transform(df)\n",
    "    print(pca.explained_variance_ratio_)\n",
    "    pca_df = pd.DataFrame(pca_df, index=df.index, columns=[0, 1])\n",
    "    pca_df['cluster'] = cluster_object.labels_\n",
    "    plt.figure(figsize=(16, 10))\n",
    "    ax = sns.scatterplot(x=0, y=1, hue=\"cluster\", data=pca_df)\n",
    "    for i in range(len(pca_df)):\n",
    "        ax.text(pca_df.iloc[i,0], pca_df.iloc[i,1], pca_df.index[i], fontsize=8)"
   ]
  },
  {
   "cell_type": "code",
   "execution_count": 3,
   "metadata": {},
   "outputs": [],
   "source": [
    "df_all = read_data('舞弊案例全市场数据2014-2021.csv')\n",
    "df_part = read_data('all_samples.csv')\n",
    "# df_all.to_csv('全数据-转换后.csv')\n",
    "# df_part.to_csv('部分数据-转换后.csv')"
   ]
  },
  {
   "cell_type": "code",
   "execution_count": 4,
   "metadata": {},
   "outputs": [],
   "source": [
    "df = df_all"
   ]
  },
  {
   "cell_type": "code",
   "execution_count": 5,
   "metadata": {},
   "outputs": [],
   "source": [
    "# sse = {}\n",
    "# sc = {}\n",
    "# for k in range(2, 40):\n",
    "#     kmeans = cluster.KMeans(n_clusters=k, max_iter=1000, n_init=10, random_state=0).fit(df)\n",
    "#     sse[k] = kmeans.inertia_\n",
    "#     sc[k] = silhouette_score(df, kmeans.predict(df))\n",
    "# plt.figure()\n",
    "# plt.plot(list(sse.keys()), list(sse.values()))\n",
    "# plt.xlabel(\"Number of cluster\")\n",
    "# plt.ylabel(\"SSE\")\n",
    "# plt.show()\n",
    "# plt.plot(list(sc.keys()), list(sc.values()))\n",
    "# plt.xlabel(\"Number of cluster\")\n",
    "# plt.ylabel(\"silhouette_score\")\n",
    "# plt.show()"
   ]
  },
  {
   "cell_type": "code",
   "execution_count": 6,
   "metadata": {},
   "outputs": [
    {
     "data": {
      "text/plain": [
       "{0: ['资产质量异常-商誉质量存疑', '关联投资异常-商誉质量', '资产质量异常-推高软性资产'],\n",
       " 1: ['收入增长异常-赊销比例提高', '收入增长异常-现金流与营收背离'],\n",
       " 2: ['成本费用异常-会计政策调节', '负债结构异常-融资结构变化'],\n",
       " 3: ['盈余质量异常-收入结构异常',\n",
       "  '成本费用异常-期间费用调节',\n",
       "  '筹资活动异常-存贷双高',\n",
       "  '关联方交易异常-关联方占款风险',\n",
       "  '投资活动异常-资产处置',\n",
       "  '资产质量异常-存货异常',\n",
       "  '收入增长异常-赊销质量',\n",
       "  '现金质量异常-货币资金受限',\n",
       "  '成本费用异常-采购现金流不匹配',\n",
       "  '现金质量异常-存款真实性',\n",
       "  '关联投资异常-合并利润调节',\n",
       "  '筹资活动异常-闲置资金',\n",
       "  '收入增长异常-大幅收入增长',\n",
       "  '收入增长异常-税金与营收背离',\n",
       "  '财务困境-自由现金流',\n",
       "  '资产质量异常-预付账款质量存疑',\n",
       "  '现金质量异常-经营现金流质量',\n",
       "  '关联投资异常-承担集团融投资职能',\n",
       "  '成本费用异常-长期待摊费用异常',\n",
       "  '负债结构异常-负债结构变化',\n",
       "  '财务困境-净利润连续两年为负',\n",
       "  '盈余质量异常-利润结构异常',\n",
       "  '收入增长异常-成本营收背离',\n",
       "  '收入增长异常-销售费用率与营收背离',\n",
       "  '成本费用异常-利润增长超出收入增长',\n",
       "  '盈余质量异常-应计项目较高',\n",
       "  '财务困境-经营活动现金净流量',\n",
       "  '资产质量异常-大额长期应收款',\n",
       "  '筹资活动异常-高息融资'],\n",
       " 4: ['关联投资异常-子公司资金支持'],\n",
       " 5: ['关联方交易异常-关联方利润粉饰风险'],\n",
       " 6: ['成本费用异常-可操纵应计费用调节'],\n",
       " 7: ['投资活动异常-建设投资扩张', '投资活动异常-激进投资策略']}"
      ]
     },
     "execution_count": 6,
     "metadata": {},
     "output_type": "execute_result"
    }
   ],
   "source": [
    "k = 8\n",
    "cluster_object = cluster.KMeans(n_clusters=k, max_iter=1000, n_init=10, random_state=0).fit(df)\n",
    "gen_cluster_dict(df, cluster_object)"
   ]
  },
  {
   "cell_type": "code",
   "execution_count": 7,
   "metadata": {},
   "outputs": [
    {
     "data": {
      "text/plain": [
       "{0: ['盈余质量异常-收入结构异常', '关联方交易异常-关联方占款风险', '关联方交易异常-关联方利润粉饰风险'],\n",
       " 1: ['成本费用异常-期间费用调节',\n",
       "  '收入增长异常-大幅收入增长',\n",
       "  '成本费用异常-可操纵应计费用调节',\n",
       "  '成本费用异常-会计政策调节',\n",
       "  '收入增长异常-销售费用率与营收背离',\n",
       "  '成本费用异常-利润增长超出收入增长'],\n",
       " 2: ['资产质量异常-推高软性资产', '关联投资异常-子公司资金支持', '负债结构异常-融资结构变化'],\n",
       " 3: ['现金质量异常-经营现金流质量', '盈余质量异常-利润结构异常', '盈余质量异常-应计项目较高'],\n",
       " 4: ['投资活动异常-建设投资扩张', '投资活动异常-激进投资策略'],\n",
       " 5: ['资产质量异常-商誉质量存疑', '关联投资异常-商誉质量', '关联投资异常-合并利润调节', '资产质量异常-预付账款质量存疑'],\n",
       " 6: ['筹资活动异常-存贷双高',\n",
       "  '投资活动异常-资产处置',\n",
       "  '资产质量异常-存货异常',\n",
       "  '现金质量异常-货币资金受限',\n",
       "  '成本费用异常-采购现金流不匹配',\n",
       "  '现金质量异常-存款真实性',\n",
       "  '筹资活动异常-闲置资金',\n",
       "  '财务困境-自由现金流',\n",
       "  '关联投资异常-承担集团融投资职能',\n",
       "  '成本费用异常-长期待摊费用异常',\n",
       "  '负债结构异常-负债结构变化',\n",
       "  '财务困境-净利润连续两年为负',\n",
       "  '收入增长异常-成本营收背离',\n",
       "  '财务困境-经营活动现金净流量',\n",
       "  '资产质量异常-大额长期应收款',\n",
       "  '筹资活动异常-高息融资'],\n",
       " 7: ['收入增长异常-赊销比例提高', '收入增长异常-赊销质量', '收入增长异常-税金与营收背离', '收入增长异常-现金流与营收背离']}"
      ]
     },
     "execution_count": 7,
     "metadata": {},
     "output_type": "execute_result"
    }
   ],
   "source": [
    "cluster_object = cluster.SpectralClustering(n_clusters=k, affinity='nearest_neighbors', random_state=0).fit(df)\n",
    "gen_cluster_dict(df, cluster_object)"
   ]
  },
  {
   "cell_type": "code",
   "execution_count": 8,
   "metadata": {},
   "outputs": [
    {
     "data": {
      "text/plain": [
       "{0: ['成本费用异常-采购现金流不匹配'],\n",
       " 1: ['成本费用异常-可操纵应计费用调节'],\n",
       " 2: ['收入增长异常-现金流与营收背离'],\n",
       " 3: ['资产质量异常-推高软性资产'],\n",
       " 4: ['成本费用异常-会计政策调节'],\n",
       " 5: ['成本费用异常-利润增长超出收入增长'],\n",
       " 6: ['关联投资异常-子公司资金支持'],\n",
       " 7: ['关联方交易异常-关联方利润粉饰风险'],\n",
       " 8: ['资产质量异常-商誉质量存疑',\n",
       "  '盈余质量异常-收入结构异常',\n",
       "  '成本费用异常-期间费用调节',\n",
       "  '筹资活动异常-存贷双高',\n",
       "  '收入增长异常-赊销比例提高',\n",
       "  '关联方交易异常-关联方占款风险',\n",
       "  '投资活动异常-资产处置',\n",
       "  '资产质量异常-存货异常',\n",
       "  '收入增长异常-赊销质量',\n",
       "  '现金质量异常-货币资金受限',\n",
       "  '关联投资异常-商誉质量',\n",
       "  '现金质量异常-存款真实性',\n",
       "  '关联投资异常-合并利润调节',\n",
       "  '筹资活动异常-闲置资金',\n",
       "  '收入增长异常-大幅收入增长',\n",
       "  '收入增长异常-税金与营收背离',\n",
       "  '财务困境-自由现金流',\n",
       "  '资产质量异常-预付账款质量存疑',\n",
       "  '现金质量异常-经营现金流质量',\n",
       "  '关联投资异常-承担集团融投资职能',\n",
       "  '成本费用异常-长期待摊费用异常',\n",
       "  '负债结构异常-负债结构变化',\n",
       "  '财务困境-净利润连续两年为负',\n",
       "  '盈余质量异常-利润结构异常',\n",
       "  '收入增长异常-成本营收背离',\n",
       "  '收入增长异常-销售费用率与营收背离',\n",
       "  '盈余质量异常-应计项目较高',\n",
       "  '财务困境-经营活动现金净流量',\n",
       "  '资产质量异常-大额长期应收款',\n",
       "  '筹资活动异常-高息融资'],\n",
       " 9: ['投资活动异常-建设投资扩张', '投资活动异常-激进投资策略'],\n",
       " 10: ['负债结构异常-融资结构变化']}"
      ]
     },
     "execution_count": 8,
     "metadata": {},
     "output_type": "execute_result"
    }
   ],
   "source": [
    "cluster_object = cluster.AffinityPropagation(random_state=0).fit(df)\n",
    "gen_cluster_dict(df, cluster_object)"
   ]
  },
  {
   "cell_type": "code",
   "execution_count": 9,
   "metadata": {},
   "outputs": [
    {
     "data": {
      "text/plain": [
       "{0: ['收入增长异常-赊销比例提高',\n",
       "  '收入增长异常-赊销质量',\n",
       "  '成本费用异常-采购现金流不匹配',\n",
       "  '收入增长异常-税金与营收背离',\n",
       "  '收入增长异常-现金流与营收背离'],\n",
       " 1: ['资产质量异常-推高软性资产', '负债结构异常-融资结构变化'],\n",
       " 2: ['成本费用异常-利润增长超出收入增长', '关联方交易异常-关联方利润粉饰风险'],\n",
       " 3: ['投资活动异常-建设投资扩张', '投资活动异常-激进投资策略'],\n",
       " 4: ['成本费用异常-会计政策调节'],\n",
       " 5: ['资产质量异常-商誉质量存疑',\n",
       "  '盈余质量异常-收入结构异常',\n",
       "  '成本费用异常-期间费用调节',\n",
       "  '筹资活动异常-存贷双高',\n",
       "  '关联方交易异常-关联方占款风险',\n",
       "  '投资活动异常-资产处置',\n",
       "  '资产质量异常-存货异常',\n",
       "  '现金质量异常-货币资金受限',\n",
       "  '关联投资异常-商誉质量',\n",
       "  '现金质量异常-存款真实性',\n",
       "  '关联投资异常-合并利润调节',\n",
       "  '筹资活动异常-闲置资金',\n",
       "  '收入增长异常-大幅收入增长',\n",
       "  '财务困境-自由现金流',\n",
       "  '资产质量异常-预付账款质量存疑',\n",
       "  '现金质量异常-经营现金流质量',\n",
       "  '关联投资异常-承担集团融投资职能',\n",
       "  '成本费用异常-长期待摊费用异常',\n",
       "  '负债结构异常-负债结构变化',\n",
       "  '财务困境-净利润连续两年为负',\n",
       "  '盈余质量异常-利润结构异常',\n",
       "  '收入增长异常-成本营收背离',\n",
       "  '收入增长异常-销售费用率与营收背离',\n",
       "  '盈余质量异常-应计项目较高',\n",
       "  '财务困境-经营活动现金净流量',\n",
       "  '资产质量异常-大额长期应收款',\n",
       "  '筹资活动异常-高息融资'],\n",
       " 6: ['成本费用异常-可操纵应计费用调节'],\n",
       " 7: ['关联投资异常-子公司资金支持']}"
      ]
     },
     "execution_count": 9,
     "metadata": {},
     "output_type": "execute_result"
    }
   ],
   "source": [
    "cluster_object = cluster.AgglomerativeClustering(n_clusters=k).fit(df)\n",
    "gen_cluster_dict(df, cluster_object)"
   ]
  },
  {
   "cell_type": "code",
   "execution_count": 10,
   "metadata": {},
   "outputs": [
    {
     "data": {
      "text/plain": [
       "{0: ['收入增长异常-赊销比例提高',\n",
       "  '收入增长异常-赊销质量',\n",
       "  '成本费用异常-采购现金流不匹配',\n",
       "  '收入增长异常-税金与营收背离',\n",
       "  '收入增长异常-现金流与营收背离'],\n",
       " 1: ['资产质量异常-推高软性资产', '负债结构异常-融资结构变化'],\n",
       " 2: ['成本费用异常-利润增长超出收入增长', '关联方交易异常-关联方利润粉饰风险'],\n",
       " 3: ['投资活动异常-建设投资扩张', '投资活动异常-激进投资策略'],\n",
       " 4: ['成本费用异常-会计政策调节'],\n",
       " 5: ['资产质量异常-商誉质量存疑',\n",
       "  '盈余质量异常-收入结构异常',\n",
       "  '成本费用异常-期间费用调节',\n",
       "  '筹资活动异常-存贷双高',\n",
       "  '关联方交易异常-关联方占款风险',\n",
       "  '投资活动异常-资产处置',\n",
       "  '资产质量异常-存货异常',\n",
       "  '现金质量异常-货币资金受限',\n",
       "  '关联投资异常-商誉质量',\n",
       "  '现金质量异常-存款真实性',\n",
       "  '关联投资异常-合并利润调节',\n",
       "  '筹资活动异常-闲置资金',\n",
       "  '收入增长异常-大幅收入增长',\n",
       "  '财务困境-自由现金流',\n",
       "  '资产质量异常-预付账款质量存疑',\n",
       "  '现金质量异常-经营现金流质量',\n",
       "  '关联投资异常-承担集团融投资职能',\n",
       "  '成本费用异常-长期待摊费用异常',\n",
       "  '负债结构异常-负债结构变化',\n",
       "  '财务困境-净利润连续两年为负',\n",
       "  '盈余质量异常-利润结构异常',\n",
       "  '收入增长异常-成本营收背离',\n",
       "  '收入增长异常-销售费用率与营收背离',\n",
       "  '盈余质量异常-应计项目较高',\n",
       "  '财务困境-经营活动现金净流量',\n",
       "  '资产质量异常-大额长期应收款',\n",
       "  '筹资活动异常-高息融资'],\n",
       " 6: ['成本费用异常-可操纵应计费用调节'],\n",
       " 7: ['关联投资异常-子公司资金支持']}"
      ]
     },
     "execution_count": 10,
     "metadata": {},
     "output_type": "execute_result"
    }
   ],
   "source": [
    "cluster_object = cluster.Birch(n_clusters=k).fit(df)\n",
    "gen_cluster_dict(df, cluster_object)"
   ]
  },
  {
   "cell_type": "code",
   "execution_count": 11,
   "metadata": {},
   "outputs": [
    {
     "data": {
      "text/plain": [
       "{0: ['投资活动异常-建设投资扩张',\n",
       "  '成本费用异常-可操纵应计费用调节',\n",
       "  '资产质量异常-推高软性资产',\n",
       "  '成本费用异常-会计政策调节',\n",
       "  '成本费用异常-利润增长超出收入增长',\n",
       "  '关联投资异常-子公司资金支持',\n",
       "  '关联方交易异常-关联方利润粉饰风险',\n",
       "  '投资活动异常-激进投资策略',\n",
       "  '负债结构异常-融资结构变化'],\n",
       " 1: ['关联投资异常-商誉质量', '关联投资异常-合并利润调节', '关联投资异常-承担集团融投资职能'],\n",
       " 2: ['成本费用异常-期间费用调节'],\n",
       " 3: ['现金质量异常-货币资金受限'],\n",
       " 4: ['资产质量异常-商誉质量存疑',\n",
       "  '盈余质量异常-收入结构异常',\n",
       "  '筹资活动异常-存贷双高',\n",
       "  '收入增长异常-赊销比例提高',\n",
       "  '关联方交易异常-关联方占款风险',\n",
       "  '资产质量异常-存货异常',\n",
       "  '收入增长异常-赊销质量',\n",
       "  '成本费用异常-采购现金流不匹配',\n",
       "  '现金质量异常-存款真实性',\n",
       "  '筹资活动异常-闲置资金',\n",
       "  '收入增长异常-税金与营收背离',\n",
       "  '财务困境-自由现金流',\n",
       "  '资产质量异常-预付账款质量存疑',\n",
       "  '现金质量异常-经营现金流质量',\n",
       "  '收入增长异常-现金流与营收背离',\n",
       "  '成本费用异常-长期待摊费用异常',\n",
       "  '负债结构异常-负债结构变化',\n",
       "  '财务困境-净利润连续两年为负',\n",
       "  '盈余质量异常-利润结构异常',\n",
       "  '收入增长异常-成本营收背离',\n",
       "  '收入增长异常-销售费用率与营收背离',\n",
       "  '盈余质量异常-应计项目较高',\n",
       "  '财务困境-经营活动现金净流量',\n",
       "  '资产质量异常-大额长期应收款'],\n",
       " 5: ['筹资活动异常-高息融资'],\n",
       " 6: ['投资活动异常-资产处置'],\n",
       " 7: ['收入增长异常-大幅收入增长']}"
      ]
     },
     "execution_count": 11,
     "metadata": {},
     "output_type": "execute_result"
    }
   ],
   "source": [
    "cluster_object = cluster.BisectingKMeans(n_clusters=k, random_state=0).fit(df)\n",
    "gen_cluster_dict(df, cluster_object)"
   ]
  },
  {
   "cell_type": "code",
   "execution_count": 12,
   "metadata": {},
   "outputs": [
    {
     "data": {
      "text/plain": [
       "{0: ['资产质量异常-商誉质量存疑',\n",
       "  '盈余质量异常-收入结构异常',\n",
       "  '成本费用异常-期间费用调节',\n",
       "  '筹资活动异常-存贷双高',\n",
       "  '收入增长异常-赊销比例提高',\n",
       "  '关联方交易异常-关联方占款风险',\n",
       "  '投资活动异常-资产处置',\n",
       "  '资产质量异常-存货异常',\n",
       "  '收入增长异常-赊销质量',\n",
       "  '现金质量异常-货币资金受限',\n",
       "  '投资活动异常-建设投资扩张',\n",
       "  '关联投资异常-商誉质量',\n",
       "  '现金质量异常-存款真实性',\n",
       "  '关联投资异常-合并利润调节',\n",
       "  '筹资活动异常-闲置资金',\n",
       "  '收入增长异常-大幅收入增长',\n",
       "  '收入增长异常-税金与营收背离',\n",
       "  '财务困境-自由现金流',\n",
       "  '资产质量异常-预付账款质量存疑',\n",
       "  '现金质量异常-经营现金流质量',\n",
       "  '关联投资异常-承担集团融投资职能',\n",
       "  '成本费用异常-长期待摊费用异常',\n",
       "  '负债结构异常-负债结构变化',\n",
       "  '财务困境-净利润连续两年为负',\n",
       "  '盈余质量异常-利润结构异常',\n",
       "  '收入增长异常-成本营收背离',\n",
       "  '收入增长异常-销售费用率与营收背离',\n",
       "  '盈余质量异常-应计项目较高',\n",
       "  '财务困境-经营活动现金净流量',\n",
       "  '资产质量异常-大额长期应收款',\n",
       "  '筹资活动异常-高息融资'],\n",
       " 1: ['负债结构异常-融资结构变化'],\n",
       " 2: ['成本费用异常-会计政策调节'],\n",
       " 3: ['成本费用异常-利润增长超出收入增长'],\n",
       " 4: ['关联投资异常-子公司资金支持'],\n",
       " 5: ['成本费用异常-可操纵应计费用调节'],\n",
       " 6: ['资产质量异常-推高软性资产'],\n",
       " 7: ['关联方交易异常-关联方利润粉饰风险'],\n",
       " 8: ['投资活动异常-激进投资策略'],\n",
       " 9: ['收入增长异常-现金流与营收背离'],\n",
       " 10: ['成本费用异常-采购现金流不匹配']}"
      ]
     },
     "execution_count": 12,
     "metadata": {},
     "output_type": "execute_result"
    }
   ],
   "source": [
    "cluster_object = cluster.MeanShift().fit(df)\n",
    "gen_cluster_dict(df, cluster_object)"
   ]
  }
 ],
 "metadata": {
  "kernelspec": {
   "display_name": "base",
   "language": "python",
   "name": "python3"
  },
  "language_info": {
   "codemirror_mode": {
    "name": "ipython",
    "version": 3
   },
   "file_extension": ".py",
   "mimetype": "text/x-python",
   "name": "python",
   "nbconvert_exporter": "python",
   "pygments_lexer": "ipython3",
   "version": "3.9.13"
  },
  "orig_nbformat": 4
 },
 "nbformat": 4,
 "nbformat_minor": 2
}
