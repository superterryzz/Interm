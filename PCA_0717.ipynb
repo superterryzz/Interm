{
 "cells": [
  {
   "cell_type": "code",
   "execution_count": 1,
   "metadata": {},
   "outputs": [
    {
     "name": "stderr",
     "output_type": "stream",
     "text": [
      "C:\\Users\\田兆卓\\AppData\\Local\\Temp\\ipykernel_29400\\3977920881.py:5: DeprecationWarning: `import pandas_profiling` is going to be deprecated by April 1st. Please use `import ydata_profiling` instead.\n",
      "  import pandas_profiling as pp\n"
     ]
    }
   ],
   "source": [
    "import pandas as pd\n",
    "import numpy as np\n",
    "from sklearn.decomposition import PCA\n",
    "from sklearn.model_selection import train_test_split\n",
    "import pandas_profiling as pp\n",
    "import matplotlib.pyplot as plt\n",
    "%matplotlib inline"
   ]
  },
  {
   "cell_type": "code",
   "execution_count": 2,
   "metadata": {},
   "outputs": [],
   "source": [
    "data = pd.read_excel(r\"all_samples_clean.xlsx\", sheet_name=\"Sheet1\")\n",
    "data = data.drop(['BASIC_entity_name', 'BASIC_year'], axis=1)\n",
    "\n",
    "#将非0值转换为1\n",
    "data = data.applymap(lambda x: 1 if x != 0 else 0)"
   ]
  },
  {
   "cell_type": "code",
   "execution_count": 3,
   "metadata": {},
   "outputs": [],
   "source": [
    "n_components = 10  # 降维后的维度\n",
    "pca = PCA(n_components=n_components)"
   ]
  },
  {
   "cell_type": "code",
   "execution_count": 4,
   "metadata": {},
   "outputs": [],
   "source": [
    "reduced_data = pca.fit_transform(data)"
   ]
  },
  {
   "cell_type": "code",
   "execution_count": 5,
   "metadata": {},
   "outputs": [
    {
     "data": {
      "text/plain": [
       "array([[-0.5257069 ,  0.3126826 , -1.21347055, ..., -0.36415103,\n",
       "        -0.26684359, -0.89214538],\n",
       "       [-0.52535645,  0.49907499, -0.40892177, ...,  0.20320851,\n",
       "         0.02028231, -1.07418614],\n",
       "       [-0.13619834,  1.09644168,  0.43402513, ..., -0.34489107,\n",
       "         0.28528536, -0.25278588],\n",
       "       ...,\n",
       "       [ 0.83143297,  0.55144577,  0.58553572, ..., -0.87403169,\n",
       "         0.67755147,  1.01252791],\n",
       "       [ 0.15125795,  0.18765272, -1.34983893, ...,  0.50817666,\n",
       "         0.7038235 ,  0.90933006],\n",
       "       [-0.38261441,  0.50264789, -1.51272385, ..., -0.16775886,\n",
       "         0.67808362, -0.09004321]])"
      ]
     },
     "execution_count": 5,
     "metadata": {},
     "output_type": "execute_result"
    }
   ],
   "source": [
    "reduced_data"
   ]
  },
  {
   "cell_type": "code",
   "execution_count": 6,
   "metadata": {},
   "outputs": [
    {
     "data": {
      "text/plain": [
       "array([0.08321612, 0.06096088, 0.05541732, 0.05091014, 0.04306076,\n",
       "       0.03992793, 0.03817441, 0.03503291, 0.0328005 , 0.03243247])"
      ]
     },
     "execution_count": 6,
     "metadata": {},
     "output_type": "execute_result"
    }
   ],
   "source": [
    "pca.explained_variance_ratio_"
   ]
  },
  {
   "cell_type": "code",
   "execution_count": 7,
   "metadata": {},
   "outputs": [
    {
     "ename": "TypeError",
     "evalue": "inverse_transform() missing 1 required positional argument: 'X'",
     "output_type": "error",
     "traceback": [
      "\u001b[1;31m---------------------------------------------------------------------------\u001b[0m",
      "\u001b[1;31mTypeError\u001b[0m                                 Traceback (most recent call last)",
      "\u001b[1;32mc:\\Users\\田兆卓\\Desktop\\德勤实习\\20230713财务舞弊手段特征工程\\PCA_0717.ipynb 单元格 7\u001b[0m in \u001b[0;36m<cell line: 1>\u001b[1;34m()\u001b[0m\n\u001b[1;32m----> <a href='vscode-notebook-cell:/c%3A/Users/%E7%94%B0%E5%85%86%E5%8D%93/Desktop/%E5%BE%B7%E5%8B%A4%E5%AE%9E%E4%B9%A0/20230713%E8%B4%A2%E5%8A%A1%E8%88%9E%E5%BC%8A%E6%89%8B%E6%AE%B5%E7%89%B9%E5%BE%81%E5%B7%A5%E7%A8%8B/PCA_0717.ipynb#X21sZmlsZQ%3D%3D?line=0'>1</a>\u001b[0m pca\u001b[39m.\u001b[39;49minverse_transform()\n",
      "\u001b[1;31mTypeError\u001b[0m: inverse_transform() missing 1 required positional argument: 'X'"
     ]
    }
   ],
   "source": []
  }
 ],
 "metadata": {
  "kernelspec": {
   "display_name": "base",
   "language": "python",
   "name": "python3"
  },
  "language_info": {
   "codemirror_mode": {
    "name": "ipython",
    "version": 3
   },
   "file_extension": ".py",
   "mimetype": "text/x-python",
   "name": "python",
   "nbconvert_exporter": "python",
   "pygments_lexer": "ipython3",
   "version": "3.9.12"
  },
  "orig_nbformat": 4
 },
 "nbformat": 4,
 "nbformat_minor": 2
}
