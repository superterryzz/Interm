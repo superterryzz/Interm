{
 "cells": [
  {
   "cell_type": "code",
   "execution_count": 26,
   "metadata": {},
   "outputs": [],
   "source": [
    "import numpy as np\n",
    "import pandas as pd\n",
    "import matplotlib.pyplot as plt\n",
    "from sklearn.manifold import Isomap\n",
    "from sklearn.neighbors import NearestNeighbors\n",
    "from sklearn.metrics import pairwise_distances\n",
    "from sklearn.pipeline import Pipeline\n",
    "from sklearn.model_selection import cross_val_score"
   ]
  },
  {
   "cell_type": "code",
   "execution_count": 2,
   "metadata": {},
   "outputs": [],
   "source": [
    "data = pd.read_excel(r\"all_samples_clean.xlsx\", sheet_name=\"Sheet1\")\n",
    "data = data.drop(['BASIC_entity_name', 'BASIC_year'], axis=1)\n",
    "\n",
    "#将非0值转换为1\n",
    "data = data.applymap(lambda x: 1 if x != 0 else 0)"
   ]
  },
  {
   "cell_type": "code",
   "execution_count": 6,
   "metadata": {},
   "outputs": [
    {
     "data": {
      "text/plain": [
       "(10536, 41)"
      ]
     },
     "execution_count": 6,
     "metadata": {},
     "output_type": "execute_result"
    }
   ],
   "source": [
    "data.shape"
   ]
  },
  {
   "cell_type": "code",
   "execution_count": 14,
   "metadata": {},
   "outputs": [],
   "source": [
    "# 创建Isomap对象，设置n_neighbors参数（近邻数）和n_components参数（输出维度数）\n",
    "n_neighbors = 10  # 近邻数，可以根据数据集大小适当调整\n",
    "n_components = 10  # 输出维度数，通常设置为2或3便于可视化"
   ]
  },
  {
   "cell_type": "code",
   "execution_count": 15,
   "metadata": {},
   "outputs": [],
   "source": [
    "isomap = Isomap(n_neighbors=n_neighbors, n_components=n_components)"
   ]
  },
  {
   "cell_type": "code",
   "execution_count": 16,
   "metadata": {},
   "outputs": [],
   "source": [
    "# 对数据进行拟合和转换\n",
    "transformed_data = isomap.fit_transform(data)"
   ]
  },
  {
   "cell_type": "code",
   "execution_count": 17,
   "metadata": {},
   "outputs": [
    {
     "data": {
      "text/plain": [
       "array([[-1.87334512,  1.56516357, -3.00442183, ..., -0.01108428,\n",
       "        -1.63583291,  0.07418814],\n",
       "       [-2.46830192,  0.71597329, -1.72873636, ..., -2.00807046,\n",
       "        -0.9170536 ,  1.95030761],\n",
       "       [-3.29961682,  2.26476896,  1.73982038, ...,  0.19890005,\n",
       "        -0.33721885,  0.65497481],\n",
       "       ...,\n",
       "       [ 1.1780642 , -1.00919148,  0.89635939, ...,  3.45924433,\n",
       "         2.05838436, -1.4502577 ],\n",
       "       [-0.37365202,  1.67685653, -1.00619739, ...,  0.64032375,\n",
       "         3.71471197, -1.46248627],\n",
       "       [-0.41503599,  3.4809088 , -2.8282477 , ...,  0.3532993 ,\n",
       "         0.83361434,  1.20321937]])"
      ]
     },
     "execution_count": 17,
     "metadata": {},
     "output_type": "execute_result"
    }
   ],
   "source": [
    "transformed_data"
   ]
  },
  {
   "cell_type": "code",
   "execution_count": 21,
   "metadata": {},
   "outputs": [],
   "source": [
    "# 使用k-neighbors方法计算重构误差\n",
    "k_neighbors = 5  # 可根据实际情况调整k的值\n",
    "\n",
    "# 找到映射后的数据中每个点的k个最近邻\n",
    "nn = NearestNeighbors(n_neighbors=k_neighbors)\n",
    "nn.fit(transformed_data)\n",
    "distances, indices = nn.kneighbors(transformed_data)\n",
    "\n",
    "# 近似重构误差\n",
    "reconstruction_error = np.mean(distances)\n"
   ]
  },
  {
   "cell_type": "code",
   "execution_count": 23,
   "metadata": {},
   "outputs": [
    {
     "data": {
      "text/plain": [
       "1.5712938811758015"
      ]
     },
     "execution_count": 23,
     "metadata": {},
     "output_type": "execute_result"
    }
   ],
   "source": [
    "reconstruction_error"
   ]
  },
  {
   "cell_type": "code",
   "execution_count": 27,
   "metadata": {},
   "outputs": [
    {
     "ename": "TypeError",
     "evalue": "If no scoring is specified, the estimator passed should have a 'score' method. The estimator Isomap(n_components=10) does not.",
     "output_type": "error",
     "traceback": [
      "\u001b[1;31m---------------------------------------------------------------------------\u001b[0m",
      "\u001b[1;31mTypeError\u001b[0m                                 Traceback (most recent call last)",
      "\u001b[1;32mc:\\Users\\田兆卓\\Desktop\\德勤实习\\20230713财务舞弊手段特征工程\\Isomap.ipynb 单元格 10\u001b[0m in \u001b[0;36m<cell line: 3>\u001b[1;34m()\u001b[0m\n\u001b[0;32m      <a href='vscode-notebook-cell:/c%3A/Users/%E7%94%B0%E5%85%86%E5%8D%93/Desktop/%E5%BE%B7%E5%8B%A4%E5%AE%9E%E4%B9%A0/20230713%E8%B4%A2%E5%8A%A1%E8%88%9E%E5%BC%8A%E6%89%8B%E6%AE%B5%E7%89%B9%E5%BE%81%E5%B7%A5%E7%A8%8B/Isomap.ipynb#X13sZmlsZQ%3D%3D?line=3'>4</a>\u001b[0m isomap \u001b[39m=\u001b[39m Isomap(n_neighbors\u001b[39m=\u001b[39mk_neighbors, n_components\u001b[39m=\u001b[39mn_components)\n\u001b[0;32m      <a href='vscode-notebook-cell:/c%3A/Users/%E7%94%B0%E5%85%86%E5%8D%93/Desktop/%E5%BE%B7%E5%8B%A4%E5%AE%9E%E4%B9%A0/20230713%E8%B4%A2%E5%8A%A1%E8%88%9E%E5%BC%8A%E6%89%8B%E6%AE%B5%E7%89%B9%E5%BE%81%E5%B7%A5%E7%A8%8B/Isomap.ipynb#X13sZmlsZQ%3D%3D?line=4'>5</a>\u001b[0m pipeline \u001b[39m=\u001b[39m Pipeline([(\u001b[39m'\u001b[39m\u001b[39misomap\u001b[39m\u001b[39m'\u001b[39m, isomap)])\n\u001b[1;32m----> <a href='vscode-notebook-cell:/c%3A/Users/%E7%94%B0%E5%85%86%E5%8D%93/Desktop/%E5%BE%B7%E5%8B%A4%E5%AE%9E%E4%B9%A0/20230713%E8%B4%A2%E5%8A%A1%E8%88%9E%E5%BC%8A%E6%89%8B%E6%AE%B5%E7%89%B9%E5%BE%81%E5%B7%A5%E7%A8%8B/Isomap.ipynb#X13sZmlsZQ%3D%3D?line=5'>6</a>\u001b[0m scores \u001b[39m=\u001b[39m cross_val_score(isomap, data, cv\u001b[39m=\u001b[39;49m\u001b[39m5\u001b[39;49m)  \u001b[39m# 使用5折交叉验证\u001b[39;00m\n\u001b[0;32m      <a href='vscode-notebook-cell:/c%3A/Users/%E7%94%B0%E5%85%86%E5%8D%93/Desktop/%E5%BE%B7%E5%8B%A4%E5%AE%9E%E4%B9%A0/20230713%E8%B4%A2%E5%8A%A1%E8%88%9E%E5%BC%8A%E6%89%8B%E6%AE%B5%E7%89%B9%E5%BE%81%E5%B7%A5%E7%A8%8B/Isomap.ipynb#X13sZmlsZQ%3D%3D?line=6'>7</a>\u001b[0m mean_score \u001b[39m=\u001b[39m np\u001b[39m.\u001b[39mmean(scores)\n\u001b[0;32m      <a href='vscode-notebook-cell:/c%3A/Users/%E7%94%B0%E5%85%86%E5%8D%93/Desktop/%E5%BE%B7%E5%8B%A4%E5%AE%9E%E4%B9%A0/20230713%E8%B4%A2%E5%8A%A1%E8%88%9E%E5%BC%8A%E6%89%8B%E6%AE%B5%E7%89%B9%E5%BE%81%E5%B7%A5%E7%A8%8B/Isomap.ipynb#X13sZmlsZQ%3D%3D?line=7'>8</a>\u001b[0m \u001b[39mprint\u001b[39m(\u001b[39mf\u001b[39m\u001b[39m\"\u001b[39m\u001b[39mk_neighbors=\u001b[39m\u001b[39m{\u001b[39;00mk_neighbors\u001b[39m}\u001b[39;00m\u001b[39m, Mean Score=\u001b[39m\u001b[39m{\u001b[39;00mmean_score\u001b[39m}\u001b[39;00m\u001b[39m\"\u001b[39m)\n",
      "File \u001b[1;32mc:\\study\\anaconda\\lib\\site-packages\\sklearn\\model_selection\\_validation.py:560\u001b[0m, in \u001b[0;36mcross_val_score\u001b[1;34m(estimator, X, y, groups, scoring, cv, n_jobs, verbose, fit_params, pre_dispatch, error_score)\u001b[0m\n\u001b[0;32m    442\u001b[0m \u001b[39m\"\"\"Evaluate a score by cross-validation.\u001b[39;00m\n\u001b[0;32m    443\u001b[0m \n\u001b[0;32m    444\u001b[0m \u001b[39mRead more in the :ref:`User Guide <cross_validation>`.\u001b[39;00m\n\u001b[1;32m   (...)\u001b[0m\n\u001b[0;32m    557\u001b[0m \u001b[39m[0.3315057  0.08022103 0.03531816]\u001b[39;00m\n\u001b[0;32m    558\u001b[0m \u001b[39m\"\"\"\u001b[39;00m\n\u001b[0;32m    559\u001b[0m \u001b[39m# To ensure multimetric format is not supported\u001b[39;00m\n\u001b[1;32m--> 560\u001b[0m scorer \u001b[39m=\u001b[39m check_scoring(estimator, scoring\u001b[39m=\u001b[39;49mscoring)\n\u001b[0;32m    562\u001b[0m cv_results \u001b[39m=\u001b[39m cross_validate(\n\u001b[0;32m    563\u001b[0m     estimator\u001b[39m=\u001b[39mestimator,\n\u001b[0;32m    564\u001b[0m     X\u001b[39m=\u001b[39mX,\n\u001b[1;32m   (...)\u001b[0m\n\u001b[0;32m    573\u001b[0m     error_score\u001b[39m=\u001b[39merror_score,\n\u001b[0;32m    574\u001b[0m )\n\u001b[0;32m    575\u001b[0m \u001b[39mreturn\u001b[39;00m cv_results[\u001b[39m\"\u001b[39m\u001b[39mtest_score\u001b[39m\u001b[39m\"\u001b[39m]\n",
      "File \u001b[1;32mc:\\study\\anaconda\\lib\\site-packages\\sklearn\\utils\\_param_validation.py:211\u001b[0m, in \u001b[0;36mvalidate_params.<locals>.decorator.<locals>.wrapper\u001b[1;34m(*args, **kwargs)\u001b[0m\n\u001b[0;32m    205\u001b[0m \u001b[39mtry\u001b[39;00m:\n\u001b[0;32m    206\u001b[0m     \u001b[39mwith\u001b[39;00m config_context(\n\u001b[0;32m    207\u001b[0m         skip_parameter_validation\u001b[39m=\u001b[39m(\n\u001b[0;32m    208\u001b[0m             prefer_skip_nested_validation \u001b[39mor\u001b[39;00m global_skip_validation\n\u001b[0;32m    209\u001b[0m         )\n\u001b[0;32m    210\u001b[0m     ):\n\u001b[1;32m--> 211\u001b[0m         \u001b[39mreturn\u001b[39;00m func(\u001b[39m*\u001b[39margs, \u001b[39m*\u001b[39m\u001b[39m*\u001b[39mkwargs)\n\u001b[0;32m    212\u001b[0m \u001b[39mexcept\u001b[39;00m InvalidParameterError \u001b[39mas\u001b[39;00m e:\n\u001b[0;32m    213\u001b[0m     \u001b[39m# When the function is just a wrapper around an estimator, we allow\u001b[39;00m\n\u001b[0;32m    214\u001b[0m     \u001b[39m# the function to delegate validation to the estimator, but we replace\u001b[39;00m\n\u001b[0;32m    215\u001b[0m     \u001b[39m# the name of the estimator by the name of the function in the error\u001b[39;00m\n\u001b[0;32m    216\u001b[0m     \u001b[39m# message to avoid confusion.\u001b[39;00m\n\u001b[0;32m    217\u001b[0m     msg \u001b[39m=\u001b[39m re\u001b[39m.\u001b[39msub(\n\u001b[0;32m    218\u001b[0m         \u001b[39mr\u001b[39m\u001b[39m\"\u001b[39m\u001b[39mparameter of \u001b[39m\u001b[39m\\\u001b[39m\u001b[39mw+ must be\u001b[39m\u001b[39m\"\u001b[39m,\n\u001b[0;32m    219\u001b[0m         \u001b[39mf\u001b[39m\u001b[39m\"\u001b[39m\u001b[39mparameter of \u001b[39m\u001b[39m{\u001b[39;00mfunc\u001b[39m.\u001b[39m\u001b[39m__qualname__\u001b[39m\u001b[39m}\u001b[39;00m\u001b[39m must be\u001b[39m\u001b[39m\"\u001b[39m,\n\u001b[0;32m    220\u001b[0m         \u001b[39mstr\u001b[39m(e),\n\u001b[0;32m    221\u001b[0m     )\n",
      "File \u001b[1;32mc:\\study\\anaconda\\lib\\site-packages\\sklearn\\metrics\\_scorer.py:953\u001b[0m, in \u001b[0;36mcheck_scoring\u001b[1;34m(estimator, scoring, allow_none)\u001b[0m\n\u001b[0;32m    951\u001b[0m     \u001b[39mreturn\u001b[39;00m \u001b[39mNone\u001b[39;00m\n\u001b[0;32m    952\u001b[0m \u001b[39melse\u001b[39;00m:\n\u001b[1;32m--> 953\u001b[0m     \u001b[39mraise\u001b[39;00m \u001b[39mTypeError\u001b[39;00m(\n\u001b[0;32m    954\u001b[0m         \u001b[39m\"\u001b[39m\u001b[39mIf no scoring is specified, the estimator passed should \u001b[39m\u001b[39m\"\u001b[39m\n\u001b[0;32m    955\u001b[0m         \u001b[39m\"\u001b[39m\u001b[39mhave a \u001b[39m\u001b[39m'\u001b[39m\u001b[39mscore\u001b[39m\u001b[39m'\u001b[39m\u001b[39m method. The estimator \u001b[39m\u001b[39m%r\u001b[39;00m\u001b[39m does not.\u001b[39m\u001b[39m\"\u001b[39m \u001b[39m%\u001b[39m estimator\n\u001b[0;32m    956\u001b[0m     )\n",
      "\u001b[1;31mTypeError\u001b[0m: If no scoring is specified, the estimator passed should have a 'score' method. The estimator Isomap(n_components=10) does not."
     ]
    }
   ],
   "source": [
    "n_neighbors_list = [5, 10, 15, 20, 25]\n",
    "# 使用交叉验证找到最优的k_neighbors值\n",
    "for k_neighbors in n_neighbors_list:\n",
    "    isomap = Isomap(n_neighbors=k_neighbors, n_components=n_components)\n",
    "    pipeline = Pipeline([('isomap', isomap)])\n",
    "    scores = cross_val_score(isomap, data, cv=5)  # 使用5折交叉验证\n",
    "    mean_score = np.mean(scores)\n",
    "    print(f\"k_neighbors={k_neighbors}, Mean Score={mean_score}\")\n",
    "    \n",
    "    # 保存最优的k_neighbors值和对应的评分\n",
    "    if mean_score > best_mean_score:\n",
    "        best_mean_score = mean_score\n",
    "        best_k_neighbors = k_neighbors"
   ]
  }
 ],
 "metadata": {
  "kernelspec": {
   "display_name": "base",
   "language": "python",
   "name": "python3"
  },
  "language_info": {
   "codemirror_mode": {
    "name": "ipython",
    "version": 3
   },
   "file_extension": ".py",
   "mimetype": "text/x-python",
   "name": "python",
   "nbconvert_exporter": "python",
   "pygments_lexer": "ipython3",
   "version": "3.9.12"
  },
  "orig_nbformat": 4
 },
 "nbformat": 4,
 "nbformat_minor": 2
}
