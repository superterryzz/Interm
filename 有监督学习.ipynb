{
 "cells": [
  {
   "cell_type": "code",
   "execution_count": 9,
   "metadata": {},
   "outputs": [],
   "source": [
    "import pandas as pd\n",
    "from sklearn import cluster\n",
    "import matplotlib.pyplot as plt\n",
    "from sklearn.manifold import TSNE\n",
    "import warnings\n",
    "warnings.filterwarnings(\"ignore\")\n",
    "import seaborn as sns\n",
    "from sklearn.decomposition import PCA\n",
    "plt.rcParams['font.sans-serif']=['SimHei'] #图中文字体设置为黑体\n",
    "plt.rcParams['axes.unicode_minus']=False\n",
    "from tqdm.notebook import tqdm\n",
    "from sklearn.metrics import silhouette_score\n",
    "import scipy\n",
    "import numpy as np\n",
    "from sklearn.ensemble import RandomForestRegressor, RandomForestClassifier"
   ]
  },
  {
   "cell_type": "code",
   "execution_count": 10,
   "metadata": {},
   "outputs": [],
   "source": [
    "def read_data(file_name):\n",
    "    df = pd.read_csv(file_name)\n",
    "    df = df.drop(labels=['BASIC_entity_name', 'BASIC_year'], axis=1)\n",
    "    fields_df = pd.read_excel('IDOU_05_事件触发_03_大小类事件映射表_v2.0.xlsx')\n",
    "    rename_dict = {}\n",
    "    for i, row in fields_df.iterrows():\n",
    "        rename_dict[row['大类事件代码'] + '_' + row['小类事件代码']] = row['名称']\n",
    "    df = df.rename(columns=rename_dict)\n",
    "    if 'REVENUEAB_test' in df.columns:\n",
    "        df = df.drop(labels='REVENUEAB_test', axis=1)\n",
    "    return df"
   ]
  },
  {
   "cell_type": "code",
   "execution_count": 11,
   "metadata": {},
   "outputs": [],
   "source": [
    "df_all = read_data('舞弊案例全市场数据2014-2021.csv')\n",
    "df_part = read_data('all_samples.csv')"
   ]
  },
  {
   "cell_type": "code",
   "execution_count": 17,
   "metadata": {},
   "outputs": [],
   "source": [
    "df = df_part"
   ]
  },
  {
   "cell_type": "code",
   "execution_count": 20,
   "metadata": {},
   "outputs": [
    {
     "data": {
      "application/vnd.jupyter.widget-view+json": {
       "model_id": "3d9c0c52cdb3439399a89120126d699c",
       "version_major": 2,
       "version_minor": 0
      },
      "text/plain": [
       "  0%|          | 0/41 [00:00<?, ?it/s]"
      ]
     },
     "metadata": {},
     "output_type": "display_data"
    }
   ],
   "source": [
    "feature_importance_dict = {}\n",
    "for Y_col in tqdm(df.columns):\n",
    "    rf = RandomForestRegressor(random_state=0)\n",
    "    X_col = [_ for _ in df.columns if _ != Y_col]\n",
    "    rf.fit(df[X_col], df[Y_col])\n",
    "    fm_list = rf.feature_importances_.tolist()\n",
    "    fm_list.insert(df.columns.to_list().index(Y_col) ,1)\n",
    "    feature_importance_dict[Y_col] = fm_list"
   ]
  },
  {
   "cell_type": "code",
   "execution_count": 25,
   "metadata": {},
   "outputs": [],
   "source": [
    "result = pd.DataFrame(feature_importance_dict)\n",
    "result.index = df.columns\n",
    "result+= result.transpose()\n",
    "result = result/2\n",
    "result.to_excel('随机森林回归结果.xlsx')"
   ]
  },
  {
   "cell_type": "code",
   "execution_count": null,
   "metadata": {},
   "outputs": [],
   "source": []
  }
 ],
 "metadata": {
  "kernelspec": {
   "display_name": "base",
   "language": "python",
   "name": "python3"
  },
  "language_info": {
   "codemirror_mode": {
    "name": "ipython",
    "version": 3
   },
   "file_extension": ".py",
   "mimetype": "text/x-python",
   "name": "python",
   "nbconvert_exporter": "python",
   "pygments_lexer": "ipython3",
   "version": "3.9.13"
  },
  "orig_nbformat": 4
 },
 "nbformat": 4,
 "nbformat_minor": 2
}
