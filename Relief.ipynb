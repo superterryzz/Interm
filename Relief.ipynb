{
 "cells": [
  {
   "cell_type": "code",
   "execution_count": 12,
   "metadata": {},
   "outputs": [],
   "source": [
    "import numpy as np\n",
    "import pandas as pd"
   ]
  },
  {
   "cell_type": "code",
   "execution_count": 13,
   "metadata": {},
   "outputs": [],
   "source": [
    "#定义欧式距离\n",
    "def euclidean_distance(instance1, instance2):\n",
    "    return np.linalg.norm(instance1 - instance2)\n",
    "\n",
    "#定义无监督的Relief算法\n",
    "def unsupervised_relief(X, num_neighbors=3):\n",
    "    num_instances, num_features = X.shape\n",
    "    weights = np.zeros(num_features)\n",
    "\n",
    "    for i in range(num_instances):\n",
    "        target_instance = X[i, :]\n",
    "\n",
    "        # 找到最近的邻居\n",
    "        neighbors_indices = np.argsort([euclidean_distance(target_instance, X[j, :]) for j in range(num_instances) if j != i])[:num_neighbors]\n",
    "\n",
    "        # 计算特征权重\n",
    "        for feature_idx in range(num_features):\n",
    "            weights[feature_idx] += np.sum(target_instance[feature_idx] - X[neighbors_indices, feature_idx])\n",
    "\n",
    "    return weights\n"
   ]
  },
  {
   "cell_type": "code",
   "execution_count": 14,
   "metadata": {},
   "outputs": [],
   "source": [
    "data = pd.read_excel(r\"all_samples_clean.xlsx\", sheet_name=\"Sheet1\")\n",
    "data = data.drop(['BASIC_entity_name', 'BASIC_year'], axis=1)\n",
    "\n",
    "#将非0值转换为1\n",
    "data = data.applymap(lambda x: 1 if x != 0 else 0)"
   ]
  },
  {
   "cell_type": "code",
   "execution_count": 15,
   "metadata": {},
   "outputs": [],
   "source": [
    "feature_weights = unsupervised_relief(data.values)\n"
   ]
  },
  {
   "cell_type": "code",
   "execution_count": 9,
   "metadata": {},
   "outputs": [
    {
     "data": {
      "text/plain": [
       "Index(['DILEMMAAB_FREECASHFLOW', 'FINANCINGAB_IDLEFUNDS',\n",
       "       'SURPLUSAB_REVENUESTRUCTURE', 'RINVESTAB_COMBINEDPROFIT',\n",
       "       'SURPLUSAB_PROFITSTRUCTURE', 'REVENUEAB_TAXREVENUE',\n",
       "       'CASHAB_LIMITEDCASH', 'FINANCINGAB_HIGHINTEREST', 'COSTAB_SHOPPINGCASH',\n",
       "       'RPARTYAB_VARNISHOCCUPATION', 'ASSETAB_STOCK',\n",
       "       'REVENUEAB_REVENUEGROWTH', 'INVESTMENTAB_ASSETDISPOSAL',\n",
       "       'RINVESTAB_GROUP', 'DILEMMAAB_OPCASH', 'REVENUEAB_SELLINGEXPENSES',\n",
       "       'ASSETAB_PREPAIDQUALITY', 'SURPLUSAB_ACCRUALS', 'DEBTAB_DEBTSTRUCTURE',\n",
       "       'REVENUEAB_SELLONCREDITRATIO', 'REVENUEAB_COSTREVENUE',\n",
       "       'REVENUEAB_CASHREVENUE', 'RINVESTAB_GOODWILLQUALITY',\n",
       "       'REVENUEAB_SELLONCREDITQUALITY', 'CASHAB_DEPOSIT',\n",
       "       'DILEMMAAB_NEGAREVENUE', 'ASSETAB_GOODWILLQUALITY',\n",
       "       'ASSETAB_SOFTASSETS', 'CASHAB_OPERATINGCASH', 'COSTAB_PROFITGROWTH',\n",
       "       'COSTAB_PREPAIDEXPENSES', 'INVESTMENTAB_INVESTSTRATEGY',\n",
       "       'COSTAB_PERIODCOST', 'DEBTAB_FINANCINGSTRUCTURE',\n",
       "       'INVESTMENTAB_CONSTRUCTIONINVEST', 'RPARTYAB_VARNISHPROFIT',\n",
       "       'FINANCINGAB_HIGHCASHDEBT', 'COSTAB_ACCRUALS',\n",
       "       'ASSETAB_LONGRECEIVABLES', 'COSTAB_ACCOUNTING',\n",
       "       'RINVESTAB_SUBSIDIARYCASH'],\n",
       "      dtype='object')"
      ]
     },
     "execution_count": 9,
     "metadata": {},
     "output_type": "execute_result"
    }
   ],
   "source": [
    "data.columns[np.argsort(feature_weights)[::-1]]"
   ]
  },
  {
   "cell_type": "code",
   "execution_count": 10,
   "metadata": {},
   "outputs": [
    {
     "data": {
      "text/plain": [
       "array([ 634.,  141.,  854.,  619., 1009.,  648., 1043.,  591., -102.,\n",
       "        159.,  506.,  562.,  569., 1025.,  836.,  482., 1267.,  647.,\n",
       "        940.,  319., 1026., 1184.,  962.,  463.,  530.,  726.,  768.,\n",
       "        976.,  930.,  679.,  789., 1084., 1105.,  707.,  960., -407.,\n",
       "       1019.,  348.,  845., 1093., 1107.])"
      ]
     },
     "execution_count": 10,
     "metadata": {},
     "output_type": "execute_result"
    }
   ],
   "source": [
    "feature_weights"
   ]
  }
 ],
 "metadata": {
  "kernelspec": {
   "display_name": "base",
   "language": "python",
   "name": "python3"
  },
  "language_info": {
   "codemirror_mode": {
    "name": "ipython",
    "version": 3
   },
   "file_extension": ".py",
   "mimetype": "text/x-python",
   "name": "python",
   "nbconvert_exporter": "python",
   "pygments_lexer": "ipython3",
   "version": "3.9.12"
  },
  "orig_nbformat": 4
 },
 "nbformat": 4,
 "nbformat_minor": 2
}
