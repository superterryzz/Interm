{
 "cells": [
  {
   "cell_type": "code",
   "execution_count": 1,
   "metadata": {},
   "outputs": [],
   "source": [
    "import pandas as pd\n",
    "from sklearn import cluster\n",
    "import matplotlib.pyplot as plt\n",
    "from sklearn.manifold import TSNE\n",
    "import warnings\n",
    "warnings.filterwarnings(\"ignore\")\n",
    "import seaborn as sns\n",
    "from sklearn.decomposition import PCA\n",
    "plt.rcParams['font.sans-serif']=['SimHei'] #图中文字体设置为黑体\n",
    "plt.rcParams['axes.unicode_minus']=False\n",
    "from tqdm.notebook import tqdm\n",
    "from sklearn.metrics import silhouette_score\n",
    "import scipy\n",
    "import numpy as np\n",
    "import random\n",
    "from sklearn.ensemble import RandomForestRegressor, RandomForestClassifier\n",
    "import math\n",
    "from scipy.stats import entropy"
   ]
  },
  {
   "cell_type": "code",
   "execution_count": 2,
   "metadata": {},
   "outputs": [],
   "source": [
    "def read_data(file_name):\n",
    "    df = pd.read_csv(file_name)\n",
    "    df = df.drop(labels=['BASIC_entity_name', 'BASIC_year'], axis=1)\n",
    "    fields_df = pd.read_excel('IDOU_05_事件触发_03_大小类事件映射表_v2.0.xlsx')\n",
    "    rename_dict = {}\n",
    "    for i, row in fields_df.iterrows():\n",
    "        rename_dict[row['大类事件代码'] + '_' + row['小类事件代码']] = row['名称']\n",
    "    df = df.rename(columns=rename_dict)\n",
    "    if 'REVENUEAB_test' in df.columns:\n",
    "        df = df.drop(labels='REVENUEAB_test', axis=1)\n",
    "    return df\n",
    "\n",
    "def gen_value_count_df(df):\n",
    "    value_count_dict = {0:[], 1:[], 2:[]}\n",
    "    for col in df.columns:\n",
    "        value_count = df.value_counts(col, normalize=True)\n",
    "        for level in range(3):\n",
    "            try:\n",
    "                value_count_dict[level].append(value_count.loc[level])\n",
    "            except:\n",
    "                value_count_dict[level].append(0)\n",
    "    return pd.DataFrame(value_count_dict, index=df.columns).transpose()\n",
    "\n",
    "def calc_sim(cols_sampled):\n",
    "    vec1 = value_count_df_part[cols_sampled].to_numpy().flatten()\n",
    "    vec2 = value_count_df_all[cols_sampled].to_numpy().flatten()\n",
    "    return vec1.dot(vec2) / (np.linalg.norm(vec1) * np.linalg.norm(vec2))\n",
    "\n",
    "def calc_kl(cols_sampled):\n",
    "    kl_divergences = []\n",
    "    A = value_count_df_part[cols_sampled].to_numpy().transpose()\n",
    "    B = value_count_df_all[cols_sampled].to_numpy().transpose()\n",
    "    for i in range(A.shape[0]):\n",
    "        kl_divergences.append(entropy(A[i], B[i]))\n",
    "    return -np.mean(kl_divergences)\n",
    "\n",
    "def drop_duplicate_index(df):\n",
    "    all_index = df.index.to_list()\n",
    "    all_index_split = [set(i.split(',')) for i in all_index]\n",
    "    for i in tqdm(range(len(all_index_split))):\n",
    "        if all_index_split[i] in all_index_split[:i]:\n",
    "            df.drop(all_index[i], inplace=True)\n",
    "    return df\n",
    "\n",
    "def drop_dup_results(keys, values):\n",
    "    for k in tqdm(list(set(keys))):\n",
    "        k_count = keys.count(k)\n",
    "        if k_count > 1:\n",
    "            for _ in range(k_count - 1):\n",
    "                idx = keys.index(k)\n",
    "                keys.pop(idx)\n",
    "                values.pop(idx)\n",
    "    return keys, values"
   ]
  },
  {
   "cell_type": "code",
   "execution_count": 3,
   "metadata": {},
   "outputs": [],
   "source": [
    "df_all = read_data('舞弊案例全市场数据2014-2021.csv')\n",
    "fields_df = pd.read_excel('IDOU_05_事件触发_03_大小类事件映射表_v2.0.xlsx')\n",
    "value_count_df_all = gen_value_count_df(df_all)"
   ]
  },
  {
   "cell_type": "code",
   "execution_count": 4,
   "metadata": {},
   "outputs": [
    {
     "data": {
      "text/plain": [
       "0    0.994614\n",
       "1    0.003218\n",
       "2    0.002168\n",
       "Name: 资产质量异常-大额长期应收款, dtype: float64"
      ]
     },
     "execution_count": 4,
     "metadata": {},
     "output_type": "execute_result"
    }
   ],
   "source": [
    "value_count_df_all['资产质量异常-大额长期应收款']"
   ]
  },
  {
   "cell_type": "code",
   "execution_count": 7,
   "metadata": {},
   "outputs": [
    {
     "data": {
      "application/vnd.jupyter.widget-view+json": {
       "model_id": "104b2500ba9f4eb6a9a82495c74e27d8",
       "version_major": 2,
       "version_minor": 0
      },
      "text/plain": [
       "  0%|          | 0/2 [00:00<?, ?it/s]"
      ]
     },
     "metadata": {},
     "output_type": "display_data"
    },
    {
     "data": {
      "application/vnd.jupyter.widget-view+json": {
       "model_id": "6b785bbdede94b6097117cf4d5c866ff",
       "version_major": 2,
       "version_minor": 0
      },
      "text/plain": [
       "  0%|          | 0/10000 [00:00<?, ?it/s]"
      ]
     },
     "metadata": {},
     "output_type": "display_data"
    },
    {
     "data": {
      "application/vnd.jupyter.widget-view+json": {
       "model_id": "39da73a3e7604bb7a879ec3729afa4ea",
       "version_major": 2,
       "version_minor": 0
      },
      "text/plain": [
       "  0%|          | 0/10000 [00:00<?, ?it/s]"
      ]
     },
     "metadata": {},
     "output_type": "display_data"
    },
    {
     "data": {
      "application/vnd.jupyter.widget-view+json": {
       "model_id": "b2e8bdafaa6c4372b0c8e534a834f992",
       "version_major": 2,
       "version_minor": 0
      },
      "text/plain": [
       "  0%|          | 0/10000 [00:00<?, ?it/s]"
      ]
     },
     "metadata": {},
     "output_type": "display_data"
    },
    {
     "data": {
      "application/vnd.jupyter.widget-view+json": {
       "model_id": "3bc672cfa65c422da1717dc1b8a2af97",
       "version_major": 2,
       "version_minor": 0
      },
      "text/plain": [
       "  0%|          | 0/10000 [00:00<?, ?it/s]"
      ]
     },
     "metadata": {},
     "output_type": "display_data"
    },
    {
     "data": {
      "application/vnd.jupyter.widget-view+json": {
       "model_id": "ba96648e92bf481b834f9803ff3e858d",
       "version_major": 2,
       "version_minor": 0
      },
      "text/plain": [
       "  0%|          | 0/10000 [00:00<?, ?it/s]"
      ]
     },
     "metadata": {},
     "output_type": "display_data"
    },
    {
     "data": {
      "application/vnd.jupyter.widget-view+json": {
       "model_id": "6031b26218fd4d22b8572533bc5d604f",
       "version_major": 2,
       "version_minor": 0
      },
      "text/plain": [
       "  0%|          | 0/10000 [00:00<?, ?it/s]"
      ]
     },
     "metadata": {},
     "output_type": "display_data"
    },
    {
     "data": {
      "application/vnd.jupyter.widget-view+json": {
       "model_id": "c3a375fbaa544314aca882b105d581c8",
       "version_major": 2,
       "version_minor": 0
      },
      "text/plain": [
       "  0%|          | 0/10000 [00:00<?, ?it/s]"
      ]
     },
     "metadata": {},
     "output_type": "display_data"
    },
    {
     "data": {
      "application/vnd.jupyter.widget-view+json": {
       "model_id": "70ed2dcf02504b89a462543136d58dde",
       "version_major": 2,
       "version_minor": 0
      },
      "text/plain": [
       "  0%|          | 0/10000 [00:00<?, ?it/s]"
      ]
     },
     "metadata": {},
     "output_type": "display_data"
    }
   ],
   "source": [
    "for df_part_name in tqdm(['all_samples', '舞弊案例数据库']):\n",
    "    for k in [5, 10]:\n",
    "        for similarity in [calc_sim, calc_kl]:\n",
    "            df_part = read_data(f'{df_part_name}.csv')\n",
    "            value_count_df_part = gen_value_count_df(df_part)\n",
    "            value_count_df_all = value_count_df_all[value_count_df_part.columns]\n",
    "            \n",
    "            result_keys = []\n",
    "            result_values = []\n",
    "            for x in tqdm(range(10000)):\n",
    "                cols_sampled = random.sample(value_count_df_part.columns.to_list(), k)\n",
    "                sim = similarity(cols_sampled)\n",
    "                for y in range(20):\n",
    "                    cols_to_drop = random.sample(cols_sampled, random.randint(1, k-2))\n",
    "                    cols_sampled_after_drop = [c for c in cols_sampled if c not in cols_to_drop]\n",
    "                    sim_after_drop = similarity(cols_sampled_after_drop)\n",
    "                    if sim_after_drop < sim:\n",
    "                        if set(cols_sampled_after_drop) not in result_keys:\n",
    "                            result_keys.append(set(cols_sampled_after_drop))\n",
    "                            result_values.append(sim_after_drop)\n",
    "            result_dict = {}\n",
    "            for i in range(len(result_keys)):\n",
    "                result_dict[','.join(list(result_keys[i]))] = result_values[i]\n",
    "            result_df = pd.DataFrame(result_dict, index=['sim']).T.sort_values(by='sim')\n",
    "            result_df.to_excel(f'分组相似度 k={k} 舞弊样本={df_part_name} 相似度指标={similarity.__name__}.xlsx')"
   ]
  }
 ],
 "metadata": {
  "kernelspec": {
   "display_name": "base",
   "language": "python",
   "name": "python3"
  },
  "language_info": {
   "codemirror_mode": {
    "name": "ipython",
    "version": 3
   },
   "file_extension": ".py",
   "mimetype": "text/x-python",
   "name": "python",
   "nbconvert_exporter": "python",
   "pygments_lexer": "ipython3",
   "version": "3.9.13"
  },
  "orig_nbformat": 4
 },
 "nbformat": 4,
 "nbformat_minor": 2
}
