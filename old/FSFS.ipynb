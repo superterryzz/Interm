{
 "cells": [
  {
   "cell_type": "code",
   "execution_count": 1,
   "metadata": {},
   "outputs": [],
   "source": [
    "import numpy as np\n",
    "import  pandas as pd\n",
    "from sklearn.neighbors import NearestNeighbors"
   ]
  },
  {
   "cell_type": "code",
   "execution_count": 2,
   "metadata": {},
   "outputs": [],
   "source": [
    "def fsfs_feature_selection(X, k):\n",
    "    \"\"\"\n",
    "    FSFS (Feature Selection using Feature Similarity) algorithm implementation for discrete features.\n",
    "\n",
    "    Parameters:\n",
    "        X (numpy array): The input feature matrix, where each row represents a sample and each column represents a feature.\n",
    "        k (int): The number of nearest neighbors to consider for feature similarity.\n",
    "\n",
    "    Returns:\n",
    "        selected_features (list): List of indices of the selected features after feature selection.\n",
    "    \"\"\"\n",
    "\n",
    "    # Step 1: Calculate feature similarity and cluster the features\n",
    "    n_features = X.shape[1]\n",
    "    similarity_matrix = np.zeros((n_features, n_features))\n",
    "\n",
    "    # Calculate feature similarity using Hamming distance\n",
    "    for i in range(n_features):\n",
    "        for j in range(n_features):\n",
    "            if i != j:\n",
    "                similarity_matrix[i, j] = np.sum(X[:, i] != X[:, j]) / X.shape[0]\n",
    "\n",
    "    # Step 2: Calculate k-NN features and select the most compact subset\n",
    "    selected_features = []\n",
    "    for i in range(n_features):\n",
    "        # Calculate k-NN for the current feature\n",
    "        k_neighbors = np.argsort(similarity_matrix[i])[:k]\n",
    "\n",
    "        # Check if the current feature is the most compact within its k-NN features\n",
    "        compactness = np.sum(similarity_matrix[i, k_neighbors]) / k\n",
    "        is_compact = True\n",
    "        for neighbor in k_neighbors:\n",
    "            neighbor_k_neighbors = np.argsort(similarity_matrix[neighbor])[:k]\n",
    "            neighbor_compactness = np.sum(similarity_matrix[neighbor, neighbor_k_neighbors]) / k\n",
    "            if neighbor_compactness < compactness:\n",
    "                is_compact = False\n",
    "                break\n",
    "\n",
    "        if is_compact:\n",
    "            selected_features.append(i)\n",
    "\n",
    "    return selected_features"
   ]
  },
  {
   "cell_type": "code",
   "execution_count": 4,
   "metadata": {},
   "outputs": [],
   "source": [
    "data = pd.read_excel(r\"all_samples_clean.xlsx\", sheet_name=\"Sheet1\")\n",
    "data = data.drop(['BASIC_entity_name', 'BASIC_year'], axis=1)"
   ]
  },
  {
   "cell_type": "code",
   "execution_count": 5,
   "metadata": {},
   "outputs": [],
   "source": [
    "X =data.values"
   ]
  },
  {
   "cell_type": "code",
   "execution_count": 9,
   "metadata": {},
   "outputs": [],
   "source": [
    "k_neighbors = 3\n",
    "selected_features = fsfs_feature_selection(X, k_neighbors)"
   ]
  },
  {
   "cell_type": "code",
   "execution_count": 10,
   "metadata": {},
   "outputs": [
    {
     "data": {
      "text/plain": [
       "[1]"
      ]
     },
     "execution_count": 10,
     "metadata": {},
     "output_type": "execute_result"
    }
   ],
   "source": [
    "selected_features"
   ]
  },
  {
   "cell_type": "code",
   "execution_count": null,
   "metadata": {},
   "outputs": [],
   "source": []
  }
 ],
 "metadata": {
  "kernelspec": {
   "display_name": "base",
   "language": "python",
   "name": "python3"
  },
  "language_info": {
   "codemirror_mode": {
    "name": "ipython",
    "version": 3
   },
   "file_extension": ".py",
   "mimetype": "text/x-python",
   "name": "python",
   "nbconvert_exporter": "python",
   "pygments_lexer": "ipython3",
   "version": "3.9.12"
  },
  "orig_nbformat": 4
 },
 "nbformat": 4,
 "nbformat_minor": 2
}
