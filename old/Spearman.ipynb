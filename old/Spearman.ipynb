{
 "cells": [
  {
   "cell_type": "code",
   "execution_count": 2,
   "metadata": {},
   "outputs": [],
   "source": [
    "import numpy as np\n",
    "import pandas as pd\n",
    "from scipy.stats import spearmanr\n"
   ]
  },
  {
   "cell_type": "code",
   "execution_count": 3,
   "metadata": {},
   "outputs": [],
   "source": [
    "data = pd.read_excel(r\"all_samples_clean.xlsx\", sheet_name=\"Sheet1\")\n",
    "data = data.drop(['BASIC_entity_name', 'BASIC_year'], axis=1)"
   ]
  },
  {
   "cell_type": "code",
   "execution_count": 4,
   "metadata": {},
   "outputs": [],
   "source": [
    "# 计算Spearman相关系数\n",
    "spearman_corr_matrix, _ = spearmanr(data)\n",
    "\n",
    "#print(\"Spearman相关系数矩阵：\")\n",
    "#print(spearman_corr_matrix)"
   ]
  },
  {
   "cell_type": "code",
   "execution_count": 6,
   "metadata": {},
   "outputs": [],
   "source": [
    "spearman_corr_matrix = pd.DataFrame(spearman_corr_matrix)\n",
    "spearman_corr_matrix.columns = data.columns"
   ]
  },
  {
   "cell_type": "code",
   "execution_count": 8,
   "metadata": {},
   "outputs": [],
   "source": [
    "#spearman_corr_matrix.to_excel(r\"spearman.xlsx\", sheet_name=\"Sheet1\")"
   ]
  },
  {
   "cell_type": "code",
   "execution_count": 7,
   "metadata": {},
   "outputs": [],
   "source": [
    "spearman_corr_matrix  = pd.DataFrame(spearman_corr_matrix)\n",
    "#spearman_corr_matrix.to_excel(r\"all_samples_spearman.xlsx\", sheet_name=\"Sheet1\")"
   ]
  },
  {
   "cell_type": "code",
   "execution_count": 8,
   "metadata": {},
   "outputs": [],
   "source": [
    "spearman_corr_matrix.columns=data.columns"
   ]
  },
  {
   "cell_type": "code",
   "execution_count": 10,
   "metadata": {},
   "outputs": [],
   "source": [
    "spearman_corr_matrix.index=data.columns"
   ]
  },
  {
   "cell_type": "code",
   "execution_count": 21,
   "metadata": {},
   "outputs": [],
   "source": [
    "from scipy.stats import chi2_contingency"
   ]
  },
  {
   "cell_type": "code",
   "execution_count": 22,
   "metadata": {},
   "outputs": [],
   "source": [
    "cramer_v_dict = {}\n",
    "\n",
    "for i in data.columns:\n",
    "    cramer_v_dict[i] = {}\n",
    "    for j in data.columns:\n",
    "        # 创建列联表\n",
    "        cross_tab = pd.crosstab(data[i], data[j])\n",
    "        # 计算Cramer's V\n",
    "        chi2, p, dof, expected = chi2_contingency(cross_tab)\n",
    "        n = cross_tab.sum().sum()\n",
    "        cramer_v = np.sqrt(chi2 / (n * (min(cross_tab.shape) - 1)))\n",
    "        cramer_v_dict[i][j] = cramer_v\n",
    "\n",
    "# 将结果转换为DataFrame\n",
    "cramer_v_df = pd.DataFrame(cramer_v_dict)"
   ]
  },
  {
   "cell_type": "code",
   "execution_count": 44,
   "metadata": {},
   "outputs": [],
   "source": [
    "cramer_v_df.to_excel(r\"cramer_v.xlsx\", sheet_name=\"Sheet1\")"
   ]
  },
  {
   "cell_type": "code",
   "execution_count": 37,
   "metadata": {},
   "outputs": [],
   "source": [
    "# 计算Cramer's V的函数\n",
    "def calculate_cramer_v(cross_tab):\n",
    "    chi2 = chi2_contingency(cross_tab)[0]\n",
    "    n = cross_tab.sum().sum()\n",
    "    cramer_v = np.sqrt(chi2 / (n * (min(cross_tab.shape) - 1)))\n",
    "    return cramer_v\n",
    "\n"
   ]
  },
  {
   "cell_type": "code",
   "execution_count": 42,
   "metadata": {},
   "outputs": [],
   "source": [
    "#用字典存储最大Cramer's V值及其对应的行名（不包括值为1的情况）\n",
    "max_cramer_v_values = {}\n",
    "for col in cramer_v_df.columns:\n",
    "    # 获取所有小于1的值，并排除值为1的情况\n",
    "    filtered_values = cramer_v_df[col][(cramer_v_df[col] < 1) & (cramer_v_df[col] == cramer_v_df[col].max())]\n",
    "    if not filtered_values.empty:\n",
    "        max_value = filtered_values\n",
    "        max_row_name = filtered_values.index[0]\n",
    "        max_cramer_v_values[col] = {'max_value': max_value, 'row_name': max_row_name}\n"
   ]
  },
  {
   "cell_type": "code",
   "execution_count": 43,
   "metadata": {},
   "outputs": [
    {
     "name": "stdout",
     "output_type": "stream",
     "text": [
      "                                                                   max_value  \\\n",
      "COSTAB_ACCRUALS            COSTAB_ACCRUALS    1.0\n",
      "Name: COSTAB_ACCRUALS, ...   \n",
      "COSTAB_PROFITGROWTH        COSTAB_PROFITGROWTH    1.0\n",
      "Name: COSTAB_PROFIT...   \n",
      "DEBTAB_DEBTSTRUCTURE       DEBTAB_DEBTSTRUCTURE    0.999601\n",
      "Name: DEBTAB_...   \n",
      "DEBTAB_FINANCINGSTRUCTURE  DEBTAB_FINANCINGSTRUCTURE    0.999808\n",
      "Name: DE...   \n",
      "DILEMMAAB_OPCASH           DILEMMAAB_OPCASH    1.0\n",
      "Name: DILEMMAAB_OPCASH...   \n",
      "\n",
      "                                            row_name  \n",
      "COSTAB_ACCRUALS                      COSTAB_ACCRUALS  \n",
      "COSTAB_PROFITGROWTH              COSTAB_PROFITGROWTH  \n",
      "DEBTAB_DEBTSTRUCTURE            DEBTAB_DEBTSTRUCTURE  \n",
      "DEBTAB_FINANCINGSTRUCTURE  DEBTAB_FINANCINGSTRUCTURE  \n",
      "DILEMMAAB_OPCASH                    DILEMMAAB_OPCASH  \n"
     ]
    }
   ],
   "source": [
    "# 将字典转换为DataFrame\n",
    "max_cramer_v_df = pd.DataFrame.from_dict(max_cramer_v_values, orient='index')\n",
    "#保存为excel\n",
    "#max_cramer_v_df.to_excel(r\"max_row_Cramer's V.xlsx\", sheet_name=\"Sheet1\")\n",
    "# 打印包含最大Cramer's V值及其对应行名的DataFrame（不包括值为1的情况）\n",
    "print(max_cramer_v_df)"
   ]
  },
  {
   "cell_type": "code",
   "execution_count": null,
   "metadata": {},
   "outputs": [],
   "source": []
  }
 ],
 "metadata": {
  "kernelspec": {
   "display_name": "base",
   "language": "python",
   "name": "python3"
  },
  "language_info": {
   "codemirror_mode": {
    "name": "ipython",
    "version": 3
   },
   "file_extension": ".py",
   "mimetype": "text/x-python",
   "name": "python",
   "nbconvert_exporter": "python",
   "pygments_lexer": "ipython3",
   "version": "3.9.12"
  },
  "orig_nbformat": 4
 },
 "nbformat": 4,
 "nbformat_minor": 2
}
