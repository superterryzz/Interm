{
 "cells": [
  {
   "cell_type": "code",
   "execution_count": 1,
   "metadata": {},
   "outputs": [],
   "source": [
    "from sklearn.ensemble import RandomForestClassifier,RandomForestRegressor\n",
    "from sklearn.pipeline import Pipeline\n",
    "from sklearn.impute import SimpleImputer\n",
    "from sklearn.preprocessing import StandardScaler\n",
    "from sklearn.feature_selection import SelectKBest, mutual_info_classif\n",
    "from sklearn.datasets import load_iris\n",
    "import pandas as pd\n",
    "import numpy as np\n",
    "import matplotlib.pyplot as plt\n",
    "%matplotlib inline"
   ]
  },
  {
   "cell_type": "code",
   "execution_count": 17,
   "metadata": {},
   "outputs": [],
   "source": [
    "data= pd.read_excel('all_samples_clean.xlsx',sheet_name='Sheet1')\n",
    "data.drop(['BASIC_entity_name','BASIC_year'],axis=1,inplace=True)   "
   ]
  },
  {
   "cell_type": "code",
   "execution_count": 3,
   "metadata": {},
   "outputs": [],
   "source": [
    "rf = RandomForestClassifier()"
   ]
  },
  {
   "cell_type": "code",
   "execution_count": 11,
   "metadata": {},
   "outputs": [
    {
     "data": {
      "text/plain": [
       "Index(['ASSETAB_GOODWILLQUALITY', 'ASSETAB_LONGRECEIVABLES',\n",
       "       'ASSETAB_PREPAIDQUALITY', 'ASSETAB_SOFTASSETS', 'ASSETAB_STOCK',\n",
       "       'CASHAB_DEPOSIT', 'CASHAB_LIMITEDCASH', 'CASHAB_OPERATINGCASH',\n",
       "       'COSTAB_ACCOUNTING', 'COSTAB_ACCRUALS', 'COSTAB_PERIODCOST',\n",
       "       'COSTAB_PREPAIDEXPENSES', 'COSTAB_PROFITGROWTH', 'COSTAB_SHOPPINGCASH',\n",
       "       'DEBTAB_DEBTSTRUCTURE', 'DEBTAB_FINANCINGSTRUCTURE',\n",
       "       'DILEMMAAB_FREECASHFLOW', 'DILEMMAAB_NEGAREVENUE', 'DILEMMAAB_OPCASH',\n",
       "       'FINANCINGAB_HIGHCASHDEBT', 'FINANCINGAB_HIGHINTEREST',\n",
       "       'FINANCINGAB_IDLEFUNDS', 'INVESTMENTAB_ASSETDISPOSAL',\n",
       "       'INVESTMENTAB_CONSTRUCTIONINVEST', 'INVESTMENTAB_INVESTSTRATEGY',\n",
       "       'REVENUEAB_CASHREVENUE', 'REVENUEAB_COSTREVENUE',\n",
       "       'REVENUEAB_REVENUEGROWTH', 'REVENUEAB_SELLINGEXPENSES',\n",
       "       'REVENUEAB_SELLONCREDITQUALITY', 'REVENUEAB_SELLONCREDITRATIO',\n",
       "       'REVENUEAB_TAXREVENUE', 'RINVESTAB_COMBINEDPROFIT',\n",
       "       'RINVESTAB_GOODWILLQUALITY', 'RINVESTAB_GROUP',\n",
       "       'RINVESTAB_SUBSIDIARYCASH', 'RPARTYAB_VARNISHOCCUPATION',\n",
       "       'RPARTYAB_VARNISHPROFIT', 'SURPLUSAB_ACCRUALS',\n",
       "       'SURPLUSAB_PROFITSTRUCTURE', 'SURPLUSAB_REVENUESTRUCTURE'],\n",
       "      dtype='object')"
      ]
     },
     "execution_count": 11,
     "metadata": {},
     "output_type": "execute_result"
    }
   ],
   "source": [
    "train.columns"
   ]
  },
  {
   "cell_type": "code",
   "execution_count": 22,
   "metadata": {},
   "outputs": [
    {
     "name": "stdout",
     "output_type": "stream",
     "text": [
      " 1. INVESTMENTAB_INVESTSTRATEGY    0.774568\n",
      " 2. COSTAB_ACCOUNTING              0.056385\n",
      " 3. REVENUEAB_REVENUEGROWTH        0.044423\n",
      " 4. FINANCINGAB_HIGHINTEREST       0.039977\n",
      " 5. COSTAB_PREPAIDEXPENSES         0.030421\n",
      " 6. DEBTAB_FINANCINGSTRUCTURE      0.029877\n",
      " 7. DILEMMAAB_NEGAREVENUE          0.024349\n"
     ]
    },
    {
     "data": {
      "image/png": "[encoded data removed]",
      "text/plain": [
       "<Figure size 432x288 with 1 Axes>"
      ]
     },
     "metadata": {
      "needs_background": "light"
     },
     "output_type": "display_data"
    }
   ],
   "source": [
    "col ='INVESTMENTAB_CONSTRUCTIONINVEST'\n",
    "\n",
    "train =data\n",
    "features = train.corr().columns[train.corr()[col].abs() > 0.1]\n",
    "features = features.drop(col)\n",
    "\n",
    "\n",
    "#使用随机森林模型进行拟合的过程\n",
    "X_train = train[features]\n",
    "y_train = train[col]\n",
    "feat_labels = X_train.columns\n",
    "\n",
    "\n",
    "rf = RandomForestRegressor(n_estimators=100,max_depth=None)\n",
    "rf_pipe = Pipeline([('imputer', SimpleImputer(strategy='median')), ('standardize', StandardScaler()), ('rf', rf)])\n",
    "rf_pipe.fit(X_train, y_train)\n",
    "\n",
    "f = rf_pipe.__getitem__('rf')\n",
    "importance = rf.feature_importances_\n",
    "importance \n",
    "\n",
    "imp_result = np.argsort(importance)[::-1][:10]\n",
    "\n",
    "\n",
    "#按重要性从高到低输出属性列名和其重要性\n",
    "for i in range(len(imp_result)):\n",
    "    print(\"%2d. %-*s %f\" % (i + 1, 30, feat_labels[imp_result[i]], importance[imp_result[i]]))\n",
    "\n",
    "#对属性列，按属性重要性从高到低进行排序\n",
    "feat_labels = [feat_labels[i] for i in imp_result]\n",
    "#绘制特征重要性图像\n",
    "plt.title('Feature Importance')\n",
    "plt.bar(range(len(imp_result)), importance[imp_result], color='lightblue', align='center')\n",
    "plt.xticks(range(len(imp_result)), feat_labels, rotation=90)\n",
    "plt.xlim([-1, len(imp_result)])\n",
    "plt.tight_layout()"
   ]
  }
 ],
 "metadata": {
  "kernelspec": {
   "display_name": "base",
   "language": "python",
   "name": "python3"
  },
  "language_info": {
   "codemirror_mode": {
    "name": "ipython",
    "version": 3
   },
   "file_extension": ".py",
   "mimetype": "text/x-python",
   "name": "python",
   "nbconvert_exporter": "python",
   "pygments_lexer": "ipython3",
   "version": "3.9.12"
  },
  "orig_nbformat": 4
 },
 "nbformat": 4,
 "nbformat_minor": 2
}
